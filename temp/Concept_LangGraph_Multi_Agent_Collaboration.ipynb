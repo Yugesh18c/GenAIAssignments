{
  "cells": [
    {
      "cell_type": "markdown",
      "id": "635d8ebb",
      "metadata": {
        "id": "635d8ebb"
      },
      "source": [
        "# Multi Agent Collaboration Network\n",
        "\n",
        "## Overview\n",
        "\n",
        "A multi-agent network is an architecture that leverages a \"divide-and-conquer\" approach by breaking down complex tasks into smaller, specialized agents.\n",
        "\n",
        "This helps resolve the inefficiencies of a single agent managing numerous tools, allowing each agent to focus on its area of expertise and solve problems effectively.\n",
        "\n",
        "![network](https://github.com/LangChain-OpenTutorial/LangChain-OpenTutorial/blob/main/17-LangGraph/03-Use-Cases/assets/17-langgraph-multi-agent-network.png?raw=1)\n",
        "\n",
        "**Key Topics Covered**\n",
        "\n",
        "- **Defining States** : How to define graph states and manage the state information required for each agent's actions  \n",
        "- **Defining Tools** : How to specify tools that agents can use and add them as nodes  \n",
        "- **Creating Agents** : How to define agents and set them as nodes in a LangGraph network  \n",
        "- **Defining Agent Nodes** : How to define specialized agents as nodes  \n",
        "- **Defining Tool Nodes** : How to define tools as nodes and enable agents to utilize them  \n",
        "- **Defining Edge Logic** : How to set branching logic that directs agents or tools based on the results of an agent’s task  \n",
        "- **Graph Definition** : How to combine agents, tools, states, and edge logic into a cohesive graph  \n",
        "- **Running the Graph** : How to execute the graph and perform real-world tasks with the defined setup  \n",
        "\n",
        "Let's get started!\n",
        "\n",
        "### References\n",
        "\n",
        "- [Concept of Multi Agent Network LangGraph](https://langchain-ai.github.io/langgraph/concepts/multi_agent/#network)  \n",
        "- [AutoGen: Enabling Next-Gen LLM Applications via Multi-Agent Conversation (Wu et al.)](https://arxiv.org/abs/2308.08155)  \n",
        "----"
      ]
    },
    {
      "cell_type": "markdown",
      "id": "c6c7aba4",
      "metadata": {
        "id": "c6c7aba4"
      },
      "source": [
        "## Environment Setup\n",
        "\n",
        "Setting up your environment is the first step. See the [Environment Setup](https://wikidocs.net/257836) guide for more details.\n",
        "\n",
        "\n",
        "**[Note]**\n",
        "\n",
        "The langchain-opentutorial is a package of easy-to-use environment setup guidance, useful functions and utilities for tutorials.\n",
        "Check out the  [```langchain-opentutorial```](https://github.com/LangChain-OpenTutorial/langchain-opentutorial-pypi) for more details."
      ]
    },
    {
      "cell_type": "code",
      "execution_count": 1,
      "id": "21943adb",
      "metadata": {
        "id": "21943adb"
      },
      "outputs": [],
      "source": [
        "%%capture --no-stderr\n",
        "%pip install langchain-opentutorial==0.0.4"
      ]
    },
    {
      "cell_type": "markdown",
      "id": "690a9ae0",
      "metadata": {
        "id": "690a9ae0"
      },
      "source": [
        "You can set API keys in a ```.env``` file or set them manually.\n",
        "\n",
        "[Note] If you’re not using the ```.env``` file, no worries! Just enter the keys directly in the cell below, and you’re good to go."
      ]
    },
    {
      "cell_type": "code",
      "execution_count": 2,
      "id": "327c2c7c",
      "metadata": {
        "id": "327c2c7c"
      },
      "outputs": [
        {
          "data": {
            "text/plain": [
              "True"
            ]
          },
          "execution_count": 2,
          "metadata": {},
          "output_type": "execute_result"
        }
      ],
      "source": [
        "from dotenv import load_dotenv\n",
        "\n",
        "load_dotenv()"
      ]
    },
    {
      "cell_type": "markdown",
      "id": "aa00c3f4",
      "metadata": {
        "id": "aa00c3f4"
      },
      "source": [
        "## Why Do We Use Multi-Agent Networks?\n",
        "\n",
        "A single agent can be efficient when working within a specific domain and using a limited number of tools. However, as the number of tools increases, several challenges arise:  \n",
        "1. The logic for managing tools becomes increasingly complex.  \n",
        "2. The amount of information the agent needs to process at once grows, leading to inefficiencies.\n",
        "\n",
        "By adopting a \"divide-and-conquer\" approach, each agent focuses on a specific task or area of expertise, while the overall workload is distributed across a network.  \n",
        "Each agent handles what it does best and delegates tasks to other specialized agents or utilizes tools effectively when needed.\n",
        "\n",
        "This structure enhances efficiency and simplifies the management of complex workflows."
      ]
    },
    {
      "cell_type": "markdown",
      "id": "69cb77da",
      "metadata": {
        "id": "69cb77da"
      },
      "source": [
        "## Defining States\n",
        "\n",
        "```messages``` is a list of messages shared between agents, and ```sender``` refers to the sender of the most recent message."
      ]
    },
    {
      "cell_type": "code",
      "execution_count": 3,
      "id": "f2271570",
      "metadata": {
        "id": "f2271570"
      },
      "outputs": [],
      "source": [
        "import operator\n",
        "from typing import Annotated, Sequence\n",
        "from typing_extensions import TypedDict\n",
        "from langchain_core.messages import BaseMessage\n",
        "\n",
        "\n",
        "# Defining state\n",
        "class AgentState(TypedDict):\n",
        "    messages: Annotated[\n",
        "        Sequence[BaseMessage], operator.add\n",
        "    ]  # a list of messages shared between agents\n",
        "    sender: Annotated[str, \"The sender of the last message\"]"
      ]
    },
    {
      "cell_type": "markdown",
      "id": "ed901d72",
      "metadata": {
        "id": "ed901d72"
      },
      "source": [
        "## Defining Tools\n",
        "\n",
        "Here, we define a few tools that agents will use in the network:\n",
        "\n",
        "- ```TavilySearch``` : A tool for searching information on the internet. It is used by the ```research_agent``` to find the necessary data.  \n",
        "- ```PythonREPL``` : A tool for executing Python code. It is used by the ```chart_agent``` to create charts.  "
      ]
    },
    {
      "cell_type": "code",
      "execution_count": 4,
      "id": "4b95f9a4",
      "metadata": {
        "id": "4b95f9a4"
      },
      "outputs": [
        {
          "ename": "ValidationError",
          "evalue": "1 validation error for TavilySearchAPIWrapper\n  Value error, Did not find tavily_api_key, please add an environment variable `TAVILY_API_KEY` which contains it, or pass `tavily_api_key` as a named parameter. [type=value_error, input_value={}, input_type=dict]\n    For further information visit https://errors.pydantic.dev/2.11/v/value_error",
          "output_type": "error",
          "traceback": [
            "\u001b[0;31m---------------------------------------------------------------------------\u001b[0m",
            "\u001b[0;31mValidationError\u001b[0m                           Traceback (most recent call last)",
            "Cell \u001b[0;32mIn[4], line 8\u001b[0m\n\u001b[1;32m      5\u001b[0m \u001b[38;5;28;01mfrom\u001b[39;00m\u001b[38;5;250m \u001b[39m\u001b[38;5;21;01mlangchain_experimental\u001b[39;00m\u001b[38;5;21;01m.\u001b[39;00m\u001b[38;5;21;01mutilities\u001b[39;00m\u001b[38;5;250m \u001b[39m\u001b[38;5;28;01mimport\u001b[39;00m PythonREPL\n\u001b[1;32m      7\u001b[0m \u001b[38;5;66;03m# Defining tavily web search tool\u001b[39;00m\n\u001b[0;32m----> 8\u001b[0m tavily_tool \u001b[38;5;241m=\u001b[39m \u001b[43mTavilySearchResults\u001b[49m\u001b[43m(\u001b[49m\u001b[43mmax_results\u001b[49m\u001b[38;5;241;43m=\u001b[39;49m\u001b[38;5;241;43m5\u001b[39;49m\u001b[43m)\u001b[49m\n\u001b[1;32m     10\u001b[0m \u001b[38;5;66;03m# Defining a tool for executing python code\u001b[39;00m\n\u001b[1;32m     11\u001b[0m python_repl \u001b[38;5;241m=\u001b[39m PythonREPL()\n",
            "File \u001b[0;32m~/gen-ai/lib/python3.12/site-packages/langchain_community/tools/tavily_search/tool.py:159\u001b[0m, in \u001b[0;36mTavilySearchResults.__init__\u001b[0;34m(self, **kwargs)\u001b[0m\n\u001b[1;32m    154\u001b[0m \u001b[38;5;28;01mif\u001b[39;00m \u001b[38;5;124m\"\u001b[39m\u001b[38;5;124mtavily_api_key\u001b[39m\u001b[38;5;124m\"\u001b[39m \u001b[38;5;129;01min\u001b[39;00m kwargs:\n\u001b[1;32m    155\u001b[0m     kwargs[\u001b[38;5;124m\"\u001b[39m\u001b[38;5;124mapi_wrapper\u001b[39m\u001b[38;5;124m\"\u001b[39m] \u001b[38;5;241m=\u001b[39m TavilySearchAPIWrapper(\n\u001b[1;32m    156\u001b[0m         tavily_api_key\u001b[38;5;241m=\u001b[39mkwargs[\u001b[38;5;124m\"\u001b[39m\u001b[38;5;124mtavily_api_key\u001b[39m\u001b[38;5;124m\"\u001b[39m]\n\u001b[1;32m    157\u001b[0m     )\n\u001b[0;32m--> 159\u001b[0m \u001b[38;5;28;43msuper\u001b[39;49m\u001b[43m(\u001b[49m\u001b[43m)\u001b[49m\u001b[38;5;241;43m.\u001b[39;49m\u001b[38;5;21;43m__init__\u001b[39;49m\u001b[43m(\u001b[49m\u001b[38;5;241;43m*\u001b[39;49m\u001b[38;5;241;43m*\u001b[39;49m\u001b[43mkwargs\u001b[49m\u001b[43m)\u001b[49m\n",
            "File \u001b[0;32m~/gen-ai/lib/python3.12/site-packages/langchain_core/tools/base.py:442\u001b[0m, in \u001b[0;36mBaseTool.__init__\u001b[0;34m(self, **kwargs)\u001b[0m\n\u001b[1;32m    437\u001b[0m     msg \u001b[38;5;241m=\u001b[39m (\n\u001b[1;32m    438\u001b[0m         \u001b[38;5;124m\"\u001b[39m\u001b[38;5;124margs_schema must be a subclass of pydantic BaseModel or \u001b[39m\u001b[38;5;124m\"\u001b[39m\n\u001b[1;32m    439\u001b[0m         \u001b[38;5;124mf\u001b[39m\u001b[38;5;124m\"\u001b[39m\u001b[38;5;124ma JSON schema dict. Got: \u001b[39m\u001b[38;5;132;01m{\u001b[39;00mkwargs[\u001b[38;5;124m'\u001b[39m\u001b[38;5;124margs_schema\u001b[39m\u001b[38;5;124m'\u001b[39m]\u001b[38;5;132;01m}\u001b[39;00m\u001b[38;5;124m.\u001b[39m\u001b[38;5;124m\"\u001b[39m\n\u001b[1;32m    440\u001b[0m     )\n\u001b[1;32m    441\u001b[0m     \u001b[38;5;28;01mraise\u001b[39;00m \u001b[38;5;167;01mTypeError\u001b[39;00m(msg)\n\u001b[0;32m--> 442\u001b[0m \u001b[38;5;28;43msuper\u001b[39;49m\u001b[43m(\u001b[49m\u001b[43m)\u001b[49m\u001b[38;5;241;43m.\u001b[39;49m\u001b[38;5;21;43m__init__\u001b[39;49m\u001b[43m(\u001b[49m\u001b[38;5;241;43m*\u001b[39;49m\u001b[38;5;241;43m*\u001b[39;49m\u001b[43mkwargs\u001b[49m\u001b[43m)\u001b[49m\n",
            "File \u001b[0;32m~/gen-ai/lib/python3.12/site-packages/langchain_core/load/serializable.py:130\u001b[0m, in \u001b[0;36mSerializable.__init__\u001b[0;34m(self, *args, **kwargs)\u001b[0m\n\u001b[1;32m    128\u001b[0m \u001b[38;5;28;01mdef\u001b[39;00m\u001b[38;5;250m \u001b[39m\u001b[38;5;21m__init__\u001b[39m(\u001b[38;5;28mself\u001b[39m, \u001b[38;5;241m*\u001b[39margs: Any, \u001b[38;5;241m*\u001b[39m\u001b[38;5;241m*\u001b[39mkwargs: Any) \u001b[38;5;241m-\u001b[39m\u001b[38;5;241m>\u001b[39m \u001b[38;5;28;01mNone\u001b[39;00m:\n\u001b[1;32m    129\u001b[0m \u001b[38;5;250m    \u001b[39m\u001b[38;5;124;03m\"\"\"\"\"\"\u001b[39;00m  \u001b[38;5;66;03m# noqa: D419\u001b[39;00m\n\u001b[0;32m--> 130\u001b[0m     \u001b[38;5;28;43msuper\u001b[39;49m\u001b[43m(\u001b[49m\u001b[43m)\u001b[49m\u001b[38;5;241;43m.\u001b[39;49m\u001b[38;5;21;43m__init__\u001b[39;49m\u001b[43m(\u001b[49m\u001b[38;5;241;43m*\u001b[39;49m\u001b[43margs\u001b[49m\u001b[43m,\u001b[49m\u001b[43m \u001b[49m\u001b[38;5;241;43m*\u001b[39;49m\u001b[38;5;241;43m*\u001b[39;49m\u001b[43mkwargs\u001b[49m\u001b[43m)\u001b[49m\n",
            "    \u001b[0;31m[... skipping hidden 1 frame]\u001b[0m\n",
            "File \u001b[0;32m~/gen-ai/lib/python3.12/site-packages/pydantic/main.py:253\u001b[0m, in \u001b[0;36mBaseModel.__init__\u001b[0;34m(self, **data)\u001b[0m\n\u001b[1;32m    251\u001b[0m \u001b[38;5;66;03m# `__tracebackhide__` tells pytest and some other tools to omit this function from tracebacks\u001b[39;00m\n\u001b[1;32m    252\u001b[0m __tracebackhide__ \u001b[38;5;241m=\u001b[39m \u001b[38;5;28;01mTrue\u001b[39;00m\n\u001b[0;32m--> 253\u001b[0m validated_self \u001b[38;5;241m=\u001b[39m \u001b[38;5;28;43mself\u001b[39;49m\u001b[38;5;241;43m.\u001b[39;49m\u001b[43m__pydantic_validator__\u001b[49m\u001b[38;5;241;43m.\u001b[39;49m\u001b[43mvalidate_python\u001b[49m\u001b[43m(\u001b[49m\u001b[43mdata\u001b[49m\u001b[43m,\u001b[49m\u001b[43m \u001b[49m\u001b[43mself_instance\u001b[49m\u001b[38;5;241;43m=\u001b[39;49m\u001b[38;5;28;43mself\u001b[39;49m\u001b[43m)\u001b[49m\n\u001b[1;32m    254\u001b[0m \u001b[38;5;28;01mif\u001b[39;00m \u001b[38;5;28mself\u001b[39m \u001b[38;5;129;01mis\u001b[39;00m \u001b[38;5;129;01mnot\u001b[39;00m validated_self:\n\u001b[1;32m    255\u001b[0m     warnings\u001b[38;5;241m.\u001b[39mwarn(\n\u001b[1;32m    256\u001b[0m         \u001b[38;5;124m'\u001b[39m\u001b[38;5;124mA custom validator is returning a value other than `self`.\u001b[39m\u001b[38;5;130;01m\\n\u001b[39;00m\u001b[38;5;124m'\u001b[39m\n\u001b[1;32m    257\u001b[0m         \u001b[38;5;124m\"\u001b[39m\u001b[38;5;124mReturning anything other than `self` from a top level model validator isn\u001b[39m\u001b[38;5;124m'\u001b[39m\u001b[38;5;124mt supported when validating via `__init__`.\u001b[39m\u001b[38;5;130;01m\\n\u001b[39;00m\u001b[38;5;124m\"\u001b[39m\n\u001b[1;32m    258\u001b[0m         \u001b[38;5;124m'\u001b[39m\u001b[38;5;124mSee the `model_validator` docs (https://docs.pydantic.dev/latest/concepts/validators/#model-validators) for more details.\u001b[39m\u001b[38;5;124m'\u001b[39m,\n\u001b[1;32m    259\u001b[0m         stacklevel\u001b[38;5;241m=\u001b[39m\u001b[38;5;241m2\u001b[39m,\n\u001b[1;32m    260\u001b[0m     )\n",
            "\u001b[0;31mValidationError\u001b[0m: 1 validation error for TavilySearchAPIWrapper\n  Value error, Did not find tavily_api_key, please add an environment variable `TAVILY_API_KEY` which contains it, or pass `tavily_api_key` as a named parameter. [type=value_error, input_value={}, input_type=dict]\n    For further information visit https://errors.pydantic.dev/2.11/v/value_error"
          ]
        }
      ],
      "source": [
        "from typing import Annotated\n",
        "\n",
        "from langchain_community.tools.tavily_search import TavilySearchResults\n",
        "from langchain_core.tools import tool\n",
        "from langchain_experimental.utilities import PythonREPL\n",
        "\n",
        "# Defining tavily web search tool\n",
        "tavily_tool = TavilySearchResults(max_results=5)\n",
        "\n",
        "# Defining a tool for executing python code\n",
        "python_repl = PythonREPL()\n",
        "\n",
        "\n",
        "@tool\n",
        "def python_repl_tool(\n",
        "    code: Annotated[str, \"The python code to execute to generate your chart.\"],\n",
        "):\n",
        "    \"\"\"Use this to execute python code. If you want to see the output of a value,\n",
        "    you should print it out with `print(...)`. This is visible to the user.\"\"\"\n",
        "    try:\n",
        "        result = python_repl.run(code)\n",
        "    except BaseException as e:\n",
        "        return f\"Failed to execute code. Error: {repr(e)}\"\n",
        "\n",
        "    result_str = f\"Successfully executed:\\n```python\\n{code}\\n```\\nStdout: {result}\"\n",
        "\n",
        "    return (\n",
        "        result_str + \"\\n\\nIf you have completed all tasks, respond with FINAL ANSWER.\"\n",
        "    )"
      ]
    },
    {
      "cell_type": "markdown",
      "id": "67a3687c",
      "metadata": {
        "id": "67a3687c"
      },
      "source": [
        "## Creating Agents\n",
        "\n",
        "Here’s an example of how to create agents. In this tutorial, we’ll use the Research Agent and the Chart Generator Agent to build a multi-agent network.\n",
        "\n",
        "\n",
        "First, define the LLM model and a common system prompt to be used for the agents."
      ]
    },
    {
      "cell_type": "code",
      "execution_count": 5,
      "id": "a839b339",
      "metadata": {
        "id": "a839b339"
      },
      "outputs": [],
      "source": [
        "from langchain_openai import AzureChatOpenAI\n",
        "\n",
        "# Defining LLM\n",
        "llm = AzureChatOpenAI(model=\"gpt-4.1-mini\")"
      ]
    },
    {
      "cell_type": "code",
      "execution_count": 6,
      "id": "1d4d8c97",
      "metadata": {
        "id": "1d4d8c97"
      },
      "outputs": [],
      "source": [
        "# Defining common system prompt\n",
        "def make_system_prompt(suffix: str) -> str:\n",
        "    return (\n",
        "        \"You are a helpful AI assistant, collaborating with other assistants.\"\n",
        "        \" Use the provided tools to progress towards answering the question.\"\n",
        "        \" If you are unable to fully answer, that's OK, another assistant with different tools \"\n",
        "        \" will help where you left off. Execute what you can to make progress.\"\n",
        "        \" If you or any of the other assistants have the final answer or deliverable,\"\n",
        "        \" prefix your response with FINAL ANSWER so the team knows to stop.\"\n",
        "        f\"\\n{suffix}\"\n",
        "    )"
      ]
    },
    {
      "cell_type": "markdown",
      "id": "ffcdd6a7",
      "metadata": {
        "id": "ffcdd6a7"
      },
      "source": [
        "### Research Agent\n",
        "\n",
        "Create an agent that performs research using the ```TavilySearch``` tool. This agent is used to gather the required information."
      ]
    },
    {
      "cell_type": "code",
      "execution_count": 7,
      "id": "f3134767",
      "metadata": {
        "id": "f3134767"
      },
      "outputs": [],
      "source": [
        "from langchain_core.messages import HumanMessage\n",
        "from langgraph.prebuilt import create_react_agent\n",
        "from langgraph.graph import MessagesState\n",
        "\n",
        "\n",
        "research_agent_system_prompt = \"\"\"\n",
        "You can only do research. You are working with a chart generator colleague.\n",
        "\"\"\"\n",
        "\n",
        "# Create Research Agent\n",
        "research_agent = create_react_agent(\n",
        "    llm,\n",
        "    tools=[tavily_tool],\n",
        "    state_modifier=make_system_prompt(research_agent_system_prompt),\n",
        ")\n",
        "\n",
        "\n",
        "# Defining Research Agent Node\n",
        "def research_node(state: MessagesState) -> MessagesState:\n",
        "    result = research_agent.invoke(state)\n",
        "\n",
        "    last_message = HumanMessage(\n",
        "        content=result[\"messages\"][-1].content, name=\"researcher\"\n",
        "    )\n",
        "    return {\n",
        "        \"messages\": [last_message],\n",
        "    }"
      ]
    },
    {
      "cell_type": "markdown",
      "id": "432274fd",
      "metadata": {
        "id": "432274fd"
      },
      "source": [
        "### Chart Generator Agent\n",
        "\n",
        "Create an agent that generates charts using the ```PythonREPL``` tool. This agent is used to create charts."
      ]
    },
    {
      "cell_type": "code",
      "execution_count": 8,
      "id": "c1aec2f7",
      "metadata": {
        "id": "c1aec2f7"
      },
      "outputs": [],
      "source": [
        "chart_generator_system_prompt = \"\"\"\n",
        "You can only generate charts. You are working with a researcher colleague.\n",
        "Be sure to use the following font code in your code when generating charts.\n",
        "\"\"\"\n",
        "\n",
        "# Create Chart Generator Agent\n",
        "chart_agent = create_react_agent(\n",
        "    llm,\n",
        "    tools=[python_repl_tool],\n",
        "    state_modifier=make_system_prompt(chart_generator_system_prompt),\n",
        ")\n",
        "\n",
        "\n",
        "# Defining Chart Generator Agent Node\n",
        "def chart_node(state: MessagesState) -> MessagesState:\n",
        "    result = chart_agent.invoke(state)\n",
        "\n",
        "    last_message = HumanMessage(\n",
        "        content=result[\"messages\"][-1].content, name=\"chart_generator\"\n",
        "    )\n",
        "    return {\n",
        "        \"messages\": [last_message],\n",
        "    }"
      ]
    },
    {
      "cell_type": "markdown",
      "id": "9e5c75dc",
      "metadata": {
        "id": "9e5c75dc"
      },
      "source": [
        "## Building a Multi-Agent Graph\n",
        "\n",
        "This workflow uses LangGraph to build a **multi-agent system** where agents collaborate dynamically.\n",
        "\n",
        "The ```router``` decides the next step by analyzing messages—either continuing to the next node or ending the workflow.\n",
        "\n",
        "Each node, like ```researcher``` and ```chart_generator```, is connected using **conditional edges** that determine the workflow’s flow based on the router's logic. The system starts with the ```researcher``` and alternates between agents until a \"FINAL ANSWER\" is reached."
      ]
    },
    {
      "cell_type": "code",
      "execution_count": 9,
      "id": "e9449cfa",
      "metadata": {
        "id": "e9449cfa"
      },
      "outputs": [
        {
          "data": {
            "image/png": "[encoded data removed]",
            "text/plain": [
              "<langgraph.graph.state.CompiledStateGraph object at 0x738f8678f170>"
            ]
          },
          "execution_count": 9,
          "metadata": {},
          "output_type": "execute_result"
        }
      ],
      "source": [
        "from langgraph.graph import StateGraph, START, END\n",
        "from langgraph.checkpoint.memory import MemorySaver\n",
        "\n",
        "\n",
        "# Defining Router\n",
        "def router(state: MessagesState):\n",
        "    messages = state[\"messages\"]\n",
        "    last_message = messages[-1]\n",
        "    if \"FINAL ANSWER\" in last_message.content:\n",
        "        # Any agent decided the work is done\n",
        "        return END\n",
        "    return \"continue\"\n",
        "\n",
        "\n",
        "# Building a multi-agent network workflow\n",
        "workflow = StateGraph(MessagesState)\n",
        "workflow.add_node(\"researcher\", research_node)\n",
        "workflow.add_node(\"chart_generator\", chart_node)\n",
        "\n",
        "workflow.add_conditional_edges(\n",
        "    \"researcher\",\n",
        "    router,\n",
        "    {\"continue\": \"chart_generator\", END: END},\n",
        ")\n",
        "workflow.add_conditional_edges(\n",
        "    \"chart_generator\",\n",
        "    router,\n",
        "    {\"continue\": \"researcher\", END: END},\n",
        ")\n",
        "\n",
        "workflow.add_edge(START, \"researcher\")\n",
        "app = workflow.compile(checkpointer=MemorySaver())\n",
        "app"
      ]
    },
    {
      "cell_type": "code",
      "execution_count": null,
      "id": "91db7ceb",
      "metadata": {},
      "outputs": [
        {
          "data": {
            "image/png": "[encoded data removed]",
            "text/plain": [
              "<IPython.core.display.Image object>"
            ]
          },
          "metadata": {},
          "output_type": "display_data"
        }
      ],
      "source": [
        "# sudo apt install graphviz graphviz-dev pkg-config \n",
        "# pip install pygraphviz\n",
        "from IPython.display import display,Image\n",
        "display(Image(app.get_graph(xray=True).draw_mermaid_png()))\n"
      ]
    },
    {
      "cell_type": "markdown",
      "id": "ccaf067c",
      "metadata": {
        "id": "ccaf067c"
      },
      "source": [
        "Let's take a look at the graph we’ve created by visualizing it!"
      ]
    },
    {
      "cell_type": "markdown",
      "id": "2f1f2863",
      "metadata": {
        "id": "2f1f2863"
      },
      "source": [
        "## Running the Agents\n",
        "\n",
        "Now it’s time to execute the multi-agent workflow we’ve built!\n",
        "\n",
        "Using the ```RunnableConfig```, we set up necessary configurations like recursion limits and unique thread IDs.\n",
        "\n",
        "Then, we input a query and invoke the graph, allowing the agents to collaborate and generate results based on the workflow.\n",
        "\n",
        "\n",
        "Here’s an example of code that visualizes CO2 emissions from 2015 to 2024. If you’re curious about something else, try changing the query and see how well the agents handle it!\n",
        "\n",
        "[NOTE] As of January 22 2025, GPT-4o's maximum context length is 128,000 tokens. Depending on the query, you might exceed this limit and encounter an error. If that happens, consider refining the agent graph or modifying your query."
      ]
    },
    {
      "cell_type": "code",
      "execution_count": 16,
      "id": "9372526e",
      "metadata": {},
      "outputs": [],
      "source": [
        "!pip install --quiet langchain_opentutorial"
      ]
    },
    {
      "cell_type": "code",
      "execution_count": 15,
      "id": "f9edb08b",
      "metadata": {
        "id": "f9edb08b",
        "outputId": "56682287-5dff-438f-93ff-680c4f45bc5e"
      },
      "outputs": [
        {
          "name": "stdout",
          "output_type": "stream",
          "text": [
            "\n",
            "==================================================\n",
            "🔄 Node: \u001b[1;36magent\u001b[0m in [\u001b[1;33mresearcher\u001b[0m] 🔄\n",
            "- - - - - - - - - - - - - - - - - - - - - - - - - \n",
            "==================================\u001b[1m Ai Message \u001b[0m==================================\n",
            "Tool Calls:\n",
            "  tavily_search_results_json (call_2DnfVCDt0YHWLPbSTzKIXwd6)\n",
            " Call ID: call_2DnfVCDt0YHWLPbSTzKIXwd6\n",
            "  Args:\n",
            "    query: global per capita GDP from 2015 to 2024\n",
            "==================================================\n",
            "\n",
            "==================================================\n",
            "🔄 Node: \u001b[1;36magent\u001b[0m in [\u001b[1;33mresearcher\u001b[0m] 🔄\n",
            "- - - - - - - - - - - - - - - - - - - - - - - - - \n",
            "==================================\u001b[1m Ai Message \u001b[0m==================================\n",
            "Tool Calls:\n",
            "  tavily_search_results_json (call_PW3HdLQSvmti5f3fW3uxgZQi)\n",
            " Call ID: call_PW3HdLQSvmti5f3fW3uxgZQi\n",
            "  Args:\n",
            "    query: world GDP per capita annual values from 2015 to 2024\n",
            "==================================================\n",
            "\n",
            "==================================================\n",
            "🔄 Node: \u001b[1;36magent\u001b[0m in [\u001b[1;33mresearcher\u001b[0m] 🔄\n",
            "- - - - - - - - - - - - - - - - - - - - - - - - - \n",
            "==================================\u001b[1m Ai Message \u001b[0m==================================\n",
            "Tool Calls:\n",
            "  tavily_search_results_json (call_VMrjPomrCwzCbtqSNj7zW0Qd)\n",
            " Call ID: call_VMrjPomrCwzCbtqSNj7zW0Qd\n",
            "  Args:\n",
            "    query: world average GDP per capita from 2015 to 2024 by year\n",
            "==================================================\n",
            "\n",
            "==================================================\n",
            "🔄 Node: \u001b[1;36magent\u001b[0m in [\u001b[1;33mresearcher\u001b[0m] 🔄\n",
            "- - - - - - - - - - - - - - - - - - - - - - - - - \n",
            "==================================\u001b[1m Ai Message \u001b[0m==================================\n",
            "\n",
            "Here are the approximate values for the global average GDP per capita in nominal terms from 2015 to 2024 (in US dollars):\n",
            "\n",
            "- 2015: Data not directly available here, but can estimate around 10,000-11,000 USD.\n",
            "- 2016-2019: Data trend suggests gradual growth each year, ending at about 12,000 USD by 2019.\n",
            "- 2020: Approximately $10,942 (notable decline due to pandemic effects).\n",
            "- 2021: Approximately $12,362 (recovery year).\n",
            "- 2022: Approximately $12,730.\n",
            "- 2023: Approximately $13,138.\n",
            "- 2024: Projected to be around $13,842.\n",
            "\n",
            "The data reflects gradual recovery and growth with some fluctuations due to global events. I can prepare a chart with these values if you want a visual representation. Would you like me to generate that chart?\n",
            "==================================================\n",
            "\n",
            "==================================================\n",
            "🔄 Node: \u001b[1;36mresearcher\u001b[0m 🔄\n",
            "- - - - - - - - - - - - - - - - - - - - - - - - - \n",
            "================================\u001b[1m Human Message \u001b[0m=================================\n",
            "Name: researcher\n",
            "\n",
            "Here are the approximate values for the global average GDP per capita in nominal terms from 2015 to 2024 (in US dollars):\n",
            "\n",
            "- 2015: Data not directly available here, but can estimate around 10,000-11,000 USD.\n",
            "- 2016-2019: Data trend suggests gradual growth each year, ending at about 12,000 USD by 2019.\n",
            "- 2020: Approximately $10,942 (notable decline due to pandemic effects).\n",
            "- 2021: Approximately $12,362 (recovery year).\n",
            "- 2022: Approximately $12,730.\n",
            "- 2023: Approximately $13,138.\n",
            "- 2024: Projected to be around $13,842.\n",
            "\n",
            "The data reflects gradual recovery and growth with some fluctuations due to global events. I can prepare a chart with these values if you want a visual representation. Would you like me to generate that chart?\n",
            "==================================================\n"
          ]
        },
        {
          "name": "stderr",
          "output_type": "stream",
          "text": [
            "findfont: Font family 'Arial' not found.\n",
            "findfont: Font family 'Arial' not found.\n",
            "findfont: Font family 'Arial' not found.\n",
            "findfont: Font family 'Arial' not found.\n",
            "findfont: Font family 'Arial' not found.\n",
            "findfont: Font family 'Arial' not found.\n",
            "findfont: Font family 'Arial' not found.\n",
            "findfont: Font family 'Arial' not found.\n",
            "findfont: Font family 'Arial' not found.\n",
            "findfont: Font family 'Arial' not found.\n",
            "findfont: Font family 'Arial' not found.\n",
            "findfont: Font family 'Arial' not found.\n",
            "findfont: Font family 'Arial' not found.\n"
          ]
        },
        {
          "data": {
            "image/png": "[encoded data removed]",
            "text/plain": [
              "<Figure size 1000x600 with 1 Axes>"
            ]
          },
          "metadata": {},
          "output_type": "display_data"
        },
        {
          "name": "stdout",
          "output_type": "stream",
          "text": [
            "\n",
            "==================================================\n",
            "🔄 Node: \u001b[1;36magent\u001b[0m in [\u001b[1;33mchart_generator\u001b[0m] 🔄\n",
            "- - - - - - - - - - - - - - - - - - - - - - - - - \n",
            "==================================\u001b[1m Ai Message \u001b[0m==================================\n",
            "\n",
            "Yes, please generate the chart to visualize the global per capita GDP from 2015 to 2024 using the data provided. Thank you!\n",
            "Tool Calls:\n",
            "  python_repl_tool (call_BYQ8cDTzPv1wTCxLUni9thuv)\n",
            " Call ID: call_BYQ8cDTzPv1wTCxLUni9thuv\n",
            "  Args:\n",
            "    code: import matplotlib.pyplot as plt\n",
            "\n",
            "# Years from 2015 to 2024\n",
            "years = list(range(2015, 2025))\n",
            "\n",
            "# Approximate global per capita GDP values in USD\n",
            "gdp_per_capita = [10500, 10800, 11100, 11500, 12000, 10942, 12362, 12730, 13138, 13842]\n",
            "\n",
            "plt.figure(figsize=(10, 6))\n",
            "plt.plot(years, gdp_per_capita, marker='o', linestyle='-', color='b')\n",
            "plt.title('Global Per Capita GDP (Nominal, USD) from 2015 to 2024', fontsize=14, fontname='Arial')\n",
            "plt.xlabel('Year', fontsize=12, fontname='Arial')\n",
            "plt.ylabel('GDP per Capita (USD)', fontsize=12, fontname='Arial')\n",
            "plt.grid(True)\n",
            "plt.xticks(years)\n",
            "plt.tight_layout()\n",
            "plt.show()\n",
            "==================================================\n",
            "\n",
            "==================================================\n",
            "🔄 Node: \u001b[1;36magent\u001b[0m in [\u001b[1;33mchart_generator\u001b[0m] 🔄\n",
            "- - - - - - - - - - - - - - - - - - - - - - - - - \n",
            "==================================\u001b[1m Ai Message \u001b[0m==================================\n",
            "\n",
            "The chart visualizes the global per capita GDP in nominal US dollars from 2015 to 2024. It shows a general upward trend with a dip in 2020 reflecting the pandemic's economic impact and a subsequent recovery and growth up to the projected value in 2024. If you need any further analysis or adjustments, please let me know!\n",
            "==================================================\n",
            "\n",
            "==================================================\n",
            "🔄 Node: \u001b[1;36mchart_generator\u001b[0m 🔄\n",
            "- - - - - - - - - - - - - - - - - - - - - - - - - \n",
            "================================\u001b[1m Human Message \u001b[0m=================================\n",
            "Name: chart_generator\n",
            "\n",
            "The chart visualizes the global per capita GDP in nominal US dollars from 2015 to 2024. It shows a general upward trend with a dip in 2020 reflecting the pandemic's economic impact and a subsequent recovery and growth up to the projected value in 2024. If you need any further analysis or adjustments, please let me know!\n",
            "==================================================\n",
            "\n",
            "==================================================\n",
            "🔄 Node: \u001b[1;36magent\u001b[0m in [\u001b[1;33mresearcher\u001b[0m] 🔄\n",
            "- - - - - - - - - - - - - - - - - - - - - - - - - \n",
            "==================================\u001b[1m Ai Message \u001b[0m==================================\n",
            "\n",
            "Here is a summary of the global per capita GDP from 2015 to 2024:\n",
            "\n",
            "- 2015: ~10,500 USD (estimate)\n",
            "- 2016: gradually increasing toward 12,000 USD by 2019\n",
            "- 2019: ~12,000 USD\n",
            "- 2020: 10,942 USD (pandemic dip)\n",
            "- 2021: 12,362 USD (recovery)\n",
            "- 2022: 12,730 USD\n",
            "- 2023: 13,138 USD\n",
            "- 2024: projected 13,842 USD\n",
            "\n",
            "The chart shows a general upward trend except for the dip in 2020 due to the pandemic, with steady recovery and projected growth continuing through 2024.\n",
            "\n",
            "If you would like, I can provide the raw data values or further insights on the trend. Would you want that?\n",
            "==================================================\n",
            "\n",
            "==================================================\n",
            "🔄 Node: \u001b[1;36mresearcher\u001b[0m 🔄\n",
            "- - - - - - - - - - - - - - - - - - - - - - - - - \n",
            "================================\u001b[1m Human Message \u001b[0m=================================\n",
            "Name: researcher\n",
            "\n",
            "Here is a summary of the global per capita GDP from 2015 to 2024:\n",
            "\n",
            "- 2015: ~10,500 USD (estimate)\n",
            "- 2016: gradually increasing toward 12,000 USD by 2019\n",
            "- 2019: ~12,000 USD\n",
            "- 2020: 10,942 USD (pandemic dip)\n",
            "- 2021: 12,362 USD (recovery)\n",
            "- 2022: 12,730 USD\n",
            "- 2023: 13,138 USD\n",
            "- 2024: projected 13,842 USD\n",
            "\n",
            "The chart shows a general upward trend except for the dip in 2020 due to the pandemic, with steady recovery and projected growth continuing through 2024.\n",
            "\n",
            "If you would like, I can provide the raw data values or further insights on the trend. Would you want that?\n",
            "==================================================\n",
            "\n",
            "==================================================\n",
            "🔄 Node: \u001b[1;36magent\u001b[0m in [\u001b[1;33mchart_generator\u001b[0m] 🔄\n",
            "- - - - - - - - - - - - - - - - - - - - - - - - - \n",
            "==================================\u001b[1m Ai Message \u001b[0m==================================\n",
            "\n",
            "Thank you for the summary! If you would like, I can provide the raw data values in a table format for clarity or generate additional analyses such as growth rates year-over-year, comparisons with regional GDP growth, or other insights. Please let me know what you would prefer.\n",
            "==================================================\n",
            "\n",
            "==================================================\n",
            "🔄 Node: \u001b[1;36mchart_generator\u001b[0m 🔄\n",
            "- - - - - - - - - - - - - - - - - - - - - - - - - \n",
            "================================\u001b[1m Human Message \u001b[0m=================================\n",
            "Name: chart_generator\n",
            "\n",
            "Thank you for the summary! If you would like, I can provide the raw data values in a table format for clarity or generate additional analyses such as growth rates year-over-year, comparisons with regional GDP growth, or other insights. Please let me know what you would prefer.\n",
            "==================================================\n",
            "\n",
            "==================================================\n",
            "🔄 Node: \u001b[1;36magent\u001b[0m in [\u001b[1;33mresearcher\u001b[0m] 🔄\n",
            "- - - - - - - - - - - - - - - - - - - - - - - - - \n",
            "==================================\u001b[1m Ai Message \u001b[0m==================================\n",
            "\n",
            "Here is a table with the raw data values of the global per capita GDP (in nominal US dollars) from 2015 to 2024 for clarity:\n",
            "\n",
            "| Year | Global Per Capita GDP (USD) |\n",
            "|-------|-----------------------------|\n",
            "| 2015  | 10,500 (estimate)           |\n",
            "| 2016  | ~10,800 (estimate)          |\n",
            "| 2017  | ~11,200 (estimate)          |\n",
            "| 2018  | ~11,600 (estimate)          |\n",
            "| 2019  | 12,000                      |\n",
            "| 2020  | 10,942                      |\n",
            "| 2021  | 12,362                      |\n",
            "| 2022  | 12,730                      |\n",
            "| 2023  | 13,138                      |\n",
            "| 2024  | 13,842 (projected)          |\n",
            "\n",
            "If you'd like, I can also provide the year-over-year growth rates or further analyses such as comparisons with regional GDP growth or other specifics. Let me know how you'd like to proceed!\n",
            "==================================================\n",
            "\n",
            "==================================================\n",
            "🔄 Node: \u001b[1;36mresearcher\u001b[0m 🔄\n",
            "- - - - - - - - - - - - - - - - - - - - - - - - - \n",
            "================================\u001b[1m Human Message \u001b[0m=================================\n",
            "Name: researcher\n",
            "\n",
            "Here is a table with the raw data values of the global per capita GDP (in nominal US dollars) from 2015 to 2024 for clarity:\n",
            "\n",
            "| Year | Global Per Capita GDP (USD) |\n",
            "|-------|-----------------------------|\n",
            "| 2015  | 10,500 (estimate)           |\n",
            "| 2016  | ~10,800 (estimate)          |\n",
            "| 2017  | ~11,200 (estimate)          |\n",
            "| 2018  | ~11,600 (estimate)          |\n",
            "| 2019  | 12,000                      |\n",
            "| 2020  | 10,942                      |\n",
            "| 2021  | 12,362                      |\n",
            "| 2022  | 12,730                      |\n",
            "| 2023  | 13,138                      |\n",
            "| 2024  | 13,842 (projected)          |\n",
            "\n",
            "If you'd like, I can also provide the year-over-year growth rates or further analyses such as comparisons with regional GDP growth or other specifics. Let me know how you'd like to proceed!\n",
            "==================================================\n",
            "\n",
            "==================================================\n",
            "🔄 Node: \u001b[1;36magent\u001b[0m in [\u001b[1;33mchart_generator\u001b[0m] 🔄\n",
            "- - - - - - - - - - - - - - - - - - - - - - - - - \n",
            "==================================\u001b[1m Ai Message \u001b[0m==================================\n",
            "Tool Calls:\n",
            "  python_repl_tool (call_BSdSbohzh3X7sYOQNd1ufL6V)\n",
            " Call ID: call_BSdSbohzh3X7sYOQNd1ufL6V\n",
            "  Args:\n",
            "    code: import matplotlib.pyplot as plt\n",
            "\n",
            "# Data\n",
            "years = list(range(2015, 2025))\n",
            "gdp_values = [10500, 10800, 11200, 11600, 12000, 10942, 12362, 12730, 13138, 13842]\n",
            "\n",
            "# Plot\n",
            "def plot_gdp(years, gdp_values):\n",
            "    plt.figure(figsize=(10, 6))\n",
            "    plt.plot(years, gdp_values, marker='o', linestyle='-', color='b')\n",
            "    plt.title('Global Per Capita GDP (Nominal, USD) 2015-2024')\n",
            "    plt.xlabel('Year')\n",
            "    plt.ylabel('GDP Per Capita (USD)')\n",
            "    plt.grid(True)\n",
            "    plt.xticks(years)\n",
            "    plt.tight_layout()\n",
            "    plt.show()\n",
            "\n",
            "plot_gdp(years, gdp_values)\n",
            "==================================================\n",
            "\n",
            "==================================================\n",
            "🔄 Node: \u001b[1;36magent\u001b[0m in [\u001b[1;33mchart_generator\u001b[0m] 🔄\n",
            "- - - - - - - - - - - - - - - - - - - - - - - - - \n",
            "==================================\u001b[1m Ai Message \u001b[0m==================================\n",
            "Tool Calls:\n",
            "  python_repl_tool (call_n261WeP7I9YJDKq1furxPUr2)\n",
            " Call ID: call_n261WeP7I9YJDKq1furxPUr2\n",
            "  Args:\n",
            "    code: import matplotlib.pyplot as plt\n",
            "\n",
            "# Data\n",
            "years = list(range(2015, 2025))\n",
            "gdp_values = [10500, 10800, 11200, 11600, 12000, 10942, 12362, 12730, 13138, 13842]\n",
            "\n",
            "# Plot\n",
            "def plot_gdp(years, gdp_values):\n",
            "    plt.figure(figsize=(10, 6))\n",
            "    plt.plot(years, gdp_values, marker='o', linestyle='-', color='b')\n",
            "    plt.title('Global Per Capita GDP (Nominal, USD) 2015-2024')\n",
            "    plt.xlabel('Year')\n",
            "    plt.ylabel('GDP Per Capita (USD)')\n",
            "    plt.grid(True)\n",
            "    plt.xticks(years)\n",
            "    plt.tight_layout()\n",
            "    plt.show()\n",
            "\n",
            "plot_gdp(years, gdp_values)\n",
            "==================================================\n",
            "\n",
            "==================================================\n",
            "🔄 Node: \u001b[1;36magent\u001b[0m in [\u001b[1;33mchart_generator\u001b[0m] 🔄\n",
            "- - - - - - - - - - - - - - - - - - - - - - - - - \n",
            "==================================\u001b[1m Ai Message \u001b[0m==================================\n",
            "\n",
            "The chart visualizing the global per capita GDP in nominal US dollars from 2015 to 2024 has been generated. It shows the steady increase from around $10,500 in 2015, with a dip in 2020 due to the pandemic, followed by recovery and growth projected through 2024.\n",
            "\n",
            "If you would like any additional analyses such as year-over-year growth rates or comparisons, please let me know.\n",
            "\n",
            "FINAL ANSWER\n",
            "==================================================\n",
            "\n",
            "==================================================\n",
            "🔄 Node: \u001b[1;36mchart_generator\u001b[0m 🔄\n",
            "- - - - - - - - - - - - - - - - - - - - - - - - - \n",
            "================================\u001b[1m Human Message \u001b[0m=================================\n",
            "Name: chart_generator\n",
            "\n",
            "The chart visualizing the global per capita GDP in nominal US dollars from 2015 to 2024 has been generated. It shows the steady increase from around $10,500 in 2015, with a dip in 2020 due to the pandemic, followed by recovery and growth projected through 2024.\n",
            "\n",
            "If you would like any additional analyses such as year-over-year growth rates or comparisons, please let me know.\n",
            "\n",
            "FINAL ANSWER\n",
            "==================================================\n"
          ]
        }
      ],
      "source": [
        "from langchain_core.runnables import RunnableConfig\n",
        "from langchain_opentutorial.messages import invoke_graph, random_uuid\n",
        "\n",
        "# set up config (recursion_limit, thread_id)\n",
        "config = RunnableConfig(recursion_limit=10, configurable={\"thread_id\": random_uuid()})\n",
        "\n",
        "# input query\n",
        "inputs = {\n",
        "    \"messages\": [\n",
        "        HumanMessage(\n",
        "            content=\"Visualize the global per capita GDP from 2015 to 2024.\"\n",
        "        )\n",
        "    ],\n",
        "}\n",
        "\n",
        "# invoke graph\n",
        "invoke_graph(app, inputs, config, node_names=[\"researcher\", \"chart_generator\", \"agent\"])"
      ]
    },
    {
      "cell_type": "code",
      "execution_count": null,
      "id": "50829e03",
      "metadata": {
        "id": "50829e03"
      },
      "outputs": [],
      "source": []
    }
  ],
  "metadata": {
    "colab": {
      "provenance": []
    },
    "kernelspec": {
      "display_name": "gen-ai",
      "language": "python",
      "name": "python3"
    },
    "language_info": {
      "codemirror_mode": {
        "name": "ipython",
        "version": 3
      },
      "file_extension": ".py",
      "mimetype": "text/x-python",
      "name": "python",
      "nbconvert_exporter": "python",
      "pygments_lexer": "ipython3",
      "version": "3.12.3"
    }
  },
  "nbformat": 4,
  "nbformat_minor": 5
}
