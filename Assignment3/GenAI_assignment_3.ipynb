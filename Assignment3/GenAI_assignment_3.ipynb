{
  "nbformat": 4,
  "nbformat_minor": 0,
  "metadata": {
    "colab": {
      "provenance": []
    },
    "kernelspec": {
      "name": "python3",
      "display_name": "Python 3"
    },
    "language_info": {
      "name": "python"
    }
  },
  "cells": [
    {
      "cell_type": "code",
      "source": [
        "# Install Necessary Packages\n",
        "!pip install openai pydantic --quiet"
      ],
      "metadata": {
        "id": "iDTIpaUwvFaN"
      },
      "execution_count": 54,
      "outputs": []
    },
    {
      "cell_type": "code",
      "source": [
        "#Import necessary libraries\n",
        "import os\n",
        "import json\n",
        "from pydantic import BaseModel, ValidationError\n",
        "from typing import List\n",
        "from openai import AzureOpenAI"
      ],
      "metadata": {
        "id": "vui6NfOHvEmk"
      },
      "execution_count": 55,
      "outputs": []
    },
    {
      "cell_type": "code",
      "source": [
        "\n",
        "# Set your Azure OpenAI credentials\n",
        "AZURE_OPENAI_API_KEY=\"04f9a983b5d747baac8c74a75c0d525a\"\n",
        "AZURE_OPENAI_ENDPOINT=\"https://swedencentral.api.cognitive.microsoft.com/\"\n",
        "OPENAI_API_VERSION=\"2024-02-15-preview\""
      ],
      "metadata": {
        "id": "LZPIgAetvEZN"
      },
      "execution_count": 56,
      "outputs": []
    },
    {
      "cell_type": "code",
      "source": [
        "# Create AzureOpenAI client\n",
        "client = AzureOpenAI(\n",
        "    api_key=AZURE_OPENAI_API_KEY,\n",
        "    api_version=\"2024-12-01-preview\",\n",
        "    azure_endpoint=AZURE_OPENAI_ENDPOINT\n",
        "    )"
      ],
      "metadata": {
        "id": "bIWkIsNnvKbm"
      },
      "execution_count": 57,
      "outputs": []
    },
    {
      "cell_type": "code",
      "source": [
        "#  Define schema using Pydantic\n",
        "class MeetingNotes(BaseModel):\n",
        "    summary: str\n",
        "    action_items: List[str]"
      ],
      "metadata": {
        "id": "TAHhZFlEvNNq"
      },
      "execution_count": 58,
      "outputs": []
    },
    {
      "cell_type": "code",
      "execution_count": 59,
      "metadata": {
        "id": "rir71r7Wexsq"
      },
      "outputs": [],
      "source": [
        "# Prompt template\n",
        "PROMPT_TEMPLATE = \"\"\"You are a meeting assistant.\n",
        "1. Summarize the meeting transcript below in exactly two sentences.\n",
        "2. Then list all action items mentioned, each as a separate bullet beginning with a dash.\n",
        "Return the result strictly as JSON with keys \"summary\" and \"action_items\".\n",
        "\n",
        "Transcript:\n",
        "{transcript}\n",
        "\"\"\"\n"
      ]
    },
    {
      "cell_type": "code",
      "source": [
        "# Main notes extraction function\n",
        "def extract_meeting_notes(transcript: str) -> dict:\n",
        "    prompt = PROMPT_TEMPLATE.format(transcript=transcript)\n",
        "\n",
        "    messages = [{\"role\": \"user\", \"content\": prompt}]\n",
        "\n",
        "    # First attempt\n",
        "    response = client.chat.completions.create(\n",
        "        model=\"telcogpt\",\n",
        "        messages=messages,\n",
        "        temperature=0\n",
        "    )\n",
        "\n",
        "    result_text = response.choices[0].message.content.strip()\n",
        "\n",
        "    try:\n",
        "        return MeetingNotes.model_validate_json(result_text).model_dump()\n",
        "    except (ValidationError, json.JSONDecodeError):\n",
        "        # Retry with stricter system prompt\n",
        "        retry_messages = [\n",
        "            {\"role\": \"system\", \"content\": \"Please output valid JSON only.\"},\n",
        "            {\"role\": \"user\", \"content\": prompt}\n",
        "        ]\n",
        "        retry_response = client.chat.completions.create(\n",
        "            model=\"telcogpt\",\n",
        "            messages=retry_messages,\n",
        "            temperature=0\n",
        "        )\n",
        "        retry_text = retry_response.choices[0].message.content.strip()\n",
        "        return MeetingNotes.model_validate_json(retry_text).model_dump()\n",
        "\n"
      ],
      "metadata": {
        "id": "ysuX1ZVMsdA0"
      },
      "execution_count": 60,
      "outputs": []
    },
    {
      "cell_type": "code",
      "source": [
        "# Sample input\n",
        "sample_transcript = \"\"\"Alice: Let's go over the Q2 results. We did well on the new feature rollout but need to address customer support backlog.\n",
        "Bob: Yes, we should hire a new support engineer. Carol, can you take the lead on drafting the job description?\n",
        "Carol: Absolutely, I'll have it ready by next Wednesday.\n",
        "David: Also, marketing wants to update the feature page based on user feedback.\n",
        "Alice: Great. So action items: Carol drafts JD, David coordinates with marketing, we reconvene next week.\n",
        "\n",
        "\"\"\"\n"
      ],
      "metadata": {
        "id": "sds9Sj3LsgAy"
      },
      "execution_count": 61,
      "outputs": []
    },
    {
      "cell_type": "code",
      "source": [
        "# Run the extraction\n",
        "result = extract_meeting_notes(sample_transcript)\n",
        "print(json.dumps(result, indent=2))"
      ],
      "metadata": {
        "colab": {
          "base_uri": "https://localhost:8080/"
        },
        "id": "qMfu2-wsuXBE",
        "outputId": "58aa17eb-dbcb-4db4-bfdb-ba397a3df136"
      },
      "execution_count": 62,
      "outputs": [
        {
          "output_type": "stream",
          "name": "stdout",
          "text": [
            "{\n",
            "  \"summary\": \"The team reviewed the Q2 results, noting success in the new feature rollout but highlighting the need to address the customer support backlog. Action items were assigned to Carol for drafting a job description for a new support engineer and to David for coordinating with marketing on updating the feature page.\",\n",
            "  \"action_items\": [\n",
            "    \"- Carol drafts the job description for a new support engineer.\",\n",
            "    \"- David coordinates with marketing to update the feature page.\"\n",
            "  ]\n",
            "}\n"
          ]
        }
      ]
    }
  ]
}
