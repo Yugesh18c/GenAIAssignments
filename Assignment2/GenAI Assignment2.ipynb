{
 "cells": [
  {
   "cell_type": "code",
   "execution_count": 4,
   "id": "6ca3c5ea",
   "metadata": {},
   "outputs": [],
   "source": [
    "import openai\n",
    "import faiss\n",
    "import numpy as np\n",
    "import pandas as pd\n",
    "from typing import List, Tuple"
   ]
  },
  {
   "cell_type": "code",
   "execution_count": 5,
   "id": "bf6c4181",
   "metadata": {},
   "outputs": [],
   "source": [
    "EMBEDDING_MODEL = \"text-embedding-ada-002\""
   ]
  },
  {
   "cell_type": "code",
   "execution_count": 17,
   "id": "25196150",
   "metadata": {},
   "outputs": [],
   "source": [
    "class CourseRecommender:\n",
    "    def __init__(self, data_path: str):\n",
    "        self.df = pd.read_csv(data_path)\n",
    "        self.df.fillna(\"\", inplace=True)\n",
    "        self.df[\"full_text\"] = self.df[\"title\"] + \" \" + self.df[\"description\"]\n",
    "        self.embeddings = self._compute_embeddings(self.df[\"full_text\"].tolist())\n",
    "        self.index = self._build_index(self.embeddings)\n",
    "\n",
    "    def _compute_embeddings(self, texts: List[str]) -> np.ndarray:\n",
    "        embeddings = []\n",
    "        for i in range(0, len(texts), 10):  # batching\n",
    "            batch = texts[i:i+10]\n",
    "            response = client.embeddings.create(model=EMBEDDING_MODEL, input=batch)\n",
    "            batch_embeddings = [e.embedding for e in response.data]\n",
    "            embeddings.extend(batch_embeddings)\n",
    "        return np.array(embeddings).astype(\"float32\")\n",
    "\n",
    "    def _build_index(self, embeddings: np.ndarray):\n",
    "        dim = embeddings.shape[1]\n",
    "        index = faiss.IndexFlatL2(dim)\n",
    "        index.add(embeddings)\n",
    "        return index\n",
    "\n",
    "    def recommend_courses(self, profile: str, completed_ids: List[str]) -> List[Tuple[str, float]]:\n",
    "        # Filter out completed courses\n",
    "        mask = ~self.df[\"id\"].isin(completed_ids)\n",
    "        remaining_df = self.df[mask].reset_index(drop=True)\n",
    "        remaining_embeddings = self.embeddings[mask.values]\n",
    "\n",
    "        # Embed user profile\n",
    "        query_embedding = client.embeddings.create(model=EMBEDDING_MODEL, input=[profile]).data[0].embedding\n",
    "        query_vec = np.array(query_embedding).astype(\"float32\").reshape(1, -1)\n",
    "\n",
    "        # Build temp index for filtered data\n",
    "        dim = remaining_embeddings.shape[1]\n",
    "        temp_index = faiss.IndexFlatL2(dim)\n",
    "        temp_index.add(remaining_embeddings)\n",
    "\n",
    "        # Search top 10 to filter best 5 not already completed\n",
    "        distances, indices = temp_index.search(query_vec, 10)\n",
    "        top_ids = []\n",
    "        for idx, dist in zip(indices[0], distances[0]):\n",
    "            course_id = remaining_df.iloc[idx][\"id\"]\n",
    "            similarity = 1 / (1 + dist)  # Convert L2 distance to pseudo-similarity\n",
    "            top_ids.append((course_id, round(similarity, 4)))\n",
    "            if len(top_ids) >= 5:\n",
    "                break\n",
    "        return top_ids\n"
   ]
  },
  {
   "cell_type": "code",
   "execution_count": 18,
   "id": "8d8af3e3",
   "metadata": {},
   "outputs": [],
   "source": [
    "import os\n",
    "import requests"
   ]
  },
  {
   "cell_type": "code",
   "execution_count": 19,
   "id": "4bcc6c52",
   "metadata": {},
   "outputs": [],
   "source": [
    "def download_dataset(url: str, dest: str):\n",
    "    if not os.path.exists(dest):\n",
    "        print(f\"Downloading dataset from {url}...\")\n",
    "        r = requests.get(url)\n",
    "        with open(dest, \"wb\") as f:\n",
    "            f.write(r.content)"
   ]
  },
  {
   "cell_type": "code",
   "execution_count": 20,
   "id": "548eed3b",
   "metadata": {},
   "outputs": [],
   "source": [
    "DATASET_URL = \"https://raw.githubusercontent.com/Bluedata-Consulting/GAAPB01-training-code-base/refs/heads/main/Assignments/assignment2dataset.csv\"\n",
    "DATASET_PATH = \"assignment2dataset.csv\""
   ]
  },
  {
   "cell_type": "code",
   "execution_count": 11,
   "id": "958a3215",
   "metadata": {},
   "outputs": [],
   "source": [
    "import os\n",
    "os.environ['AZURE_OPENAI_API_KEY'] = '04f9a983b5d747baac8c74a75c0d525a'\n",
    "os.environ['AZURE_OPENAI_ENDPOINT'] = 'https://swedencentral.api.cognitive.microsoft.com/'"
   ]
  },
  {
   "cell_type": "code",
   "execution_count": 12,
   "id": "efb37f5b",
   "metadata": {},
   "outputs": [
    {
     "ename": "OpenAIError",
     "evalue": "The api_key client option must be set either by passing api_key to the client or by setting the OPENAI_API_KEY environment variable",
     "output_type": "error",
     "traceback": [
      "\u001b[0;31m---------------------------------------------------------------------------\u001b[0m",
      "\u001b[0;31mOpenAIError\u001b[0m                               Traceback (most recent call last)",
      "Cell \u001b[0;32mIn[12], line 4\u001b[0m\n\u001b[1;32m      1\u001b[0m \u001b[38;5;28;01mfrom\u001b[39;00m\u001b[38;5;250m \u001b[39m\u001b[38;5;21;01mopenai\u001b[39;00m\u001b[38;5;250m \u001b[39m\u001b[38;5;28;01mimport\u001b[39;00m OpenAI\n\u001b[1;32m      2\u001b[0m \u001b[38;5;66;03m#OPENAI_API_KEY=\"04f9a983b5d747baac8c74a75c0d525a\"\u001b[39;00m\n\u001b[1;32m      3\u001b[0m \u001b[38;5;66;03m#OPENAI_ENDPOINT=\"https://swedencentral.api.cognitive.microsoft.com/\"\u001b[39;00m\n\u001b[0;32m----> 4\u001b[0m client \u001b[38;5;241m=\u001b[39m \u001b[43mOpenAI\u001b[49m\u001b[43m(\u001b[49m\u001b[43m)\u001b[49m\n",
      "File \u001b[0;32m~/gen-ai/lib/python3.12/site-packages/openai/_client.py:116\u001b[0m, in \u001b[0;36mOpenAI.__init__\u001b[0;34m(self, api_key, organization, project, base_url, websocket_base_url, timeout, max_retries, default_headers, default_query, http_client, _strict_response_validation)\u001b[0m\n\u001b[1;32m    114\u001b[0m     api_key \u001b[38;5;241m=\u001b[39m os\u001b[38;5;241m.\u001b[39menviron\u001b[38;5;241m.\u001b[39mget(\u001b[38;5;124m\"\u001b[39m\u001b[38;5;124mOPENAI_API_KEY\u001b[39m\u001b[38;5;124m\"\u001b[39m)\n\u001b[1;32m    115\u001b[0m \u001b[38;5;28;01mif\u001b[39;00m api_key \u001b[38;5;129;01mis\u001b[39;00m \u001b[38;5;28;01mNone\u001b[39;00m:\n\u001b[0;32m--> 116\u001b[0m     \u001b[38;5;28;01mraise\u001b[39;00m OpenAIError(\n\u001b[1;32m    117\u001b[0m         \u001b[38;5;124m\"\u001b[39m\u001b[38;5;124mThe api_key client option must be set either by passing api_key to the client or by setting the OPENAI_API_KEY environment variable\u001b[39m\u001b[38;5;124m\"\u001b[39m\n\u001b[1;32m    118\u001b[0m     )\n\u001b[1;32m    119\u001b[0m \u001b[38;5;28mself\u001b[39m\u001b[38;5;241m.\u001b[39mapi_key \u001b[38;5;241m=\u001b[39m api_key\n\u001b[1;32m    121\u001b[0m \u001b[38;5;28;01mif\u001b[39;00m organization \u001b[38;5;129;01mis\u001b[39;00m \u001b[38;5;28;01mNone\u001b[39;00m:\n",
      "\u001b[0;31mOpenAIError\u001b[0m: The api_key client option must be set either by passing api_key to the client or by setting the OPENAI_API_KEY environment variable"
     ]
    }
   ],
   "source": [
    "from openai import OpenAI\n",
    "#OPENAI_API_KEY=\"04f9a983b5d747baac8c74a75c0d525a\"\n",
    "#OPENAI_ENDPOINT=\"https://swedencentral.api.cognitive.microsoft.com/\"\n",
    "client = OpenAI()"
   ]
  },
  {
   "cell_type": "code",
   "execution_count": null,
   "id": "dbd4ce57",
   "metadata": {},
   "outputs": [],
   "source": [
    "\n",
    "# Download dataset if needed\n",
    "download_dataset(DATASET_URL, DATASET_PATH)"
   ]
  },
  {
   "cell_type": "code",
   "execution_count": null,
   "id": "537def01",
   "metadata": {},
   "outputs": [
    {
     "ename": "NameError",
     "evalue": "name 'client' is not defined",
     "output_type": "error",
     "traceback": [
      "\u001b[0;31m---------------------------------------------------------------------------\u001b[0m",
      "\u001b[0;31mNameError\u001b[0m                                 Traceback (most recent call last)",
      "Cell \u001b[0;32mIn[23], line 2\u001b[0m\n\u001b[1;32m      1\u001b[0m \u001b[38;5;66;03m# Initialize recommender\u001b[39;00m\n\u001b[0;32m----> 2\u001b[0m recommender \u001b[38;5;241m=\u001b[39m \u001b[43mCourseRecommender\u001b[49m\u001b[43m(\u001b[49m\u001b[43mDATASET_PATH\u001b[49m\u001b[43m)\u001b[49m\n",
      "Cell \u001b[0;32mIn[17], line 6\u001b[0m, in \u001b[0;36mCourseRecommender.__init__\u001b[0;34m(self, data_path)\u001b[0m\n\u001b[1;32m      4\u001b[0m \u001b[38;5;28mself\u001b[39m\u001b[38;5;241m.\u001b[39mdf\u001b[38;5;241m.\u001b[39mfillna(\u001b[38;5;124m\"\u001b[39m\u001b[38;5;124m\"\u001b[39m, inplace\u001b[38;5;241m=\u001b[39m\u001b[38;5;28;01mTrue\u001b[39;00m)\n\u001b[1;32m      5\u001b[0m \u001b[38;5;28mself\u001b[39m\u001b[38;5;241m.\u001b[39mdf[\u001b[38;5;124m\"\u001b[39m\u001b[38;5;124mfull_text\u001b[39m\u001b[38;5;124m\"\u001b[39m] \u001b[38;5;241m=\u001b[39m \u001b[38;5;28mself\u001b[39m\u001b[38;5;241m.\u001b[39mdf[\u001b[38;5;124m\"\u001b[39m\u001b[38;5;124mtitle\u001b[39m\u001b[38;5;124m\"\u001b[39m] \u001b[38;5;241m+\u001b[39m \u001b[38;5;124m\"\u001b[39m\u001b[38;5;124m \u001b[39m\u001b[38;5;124m\"\u001b[39m \u001b[38;5;241m+\u001b[39m \u001b[38;5;28mself\u001b[39m\u001b[38;5;241m.\u001b[39mdf[\u001b[38;5;124m\"\u001b[39m\u001b[38;5;124mdescription\u001b[39m\u001b[38;5;124m\"\u001b[39m]\n\u001b[0;32m----> 6\u001b[0m \u001b[38;5;28mself\u001b[39m\u001b[38;5;241m.\u001b[39membeddings \u001b[38;5;241m=\u001b[39m \u001b[38;5;28;43mself\u001b[39;49m\u001b[38;5;241;43m.\u001b[39;49m\u001b[43m_compute_embeddings\u001b[49m\u001b[43m(\u001b[49m\u001b[38;5;28;43mself\u001b[39;49m\u001b[38;5;241;43m.\u001b[39;49m\u001b[43mdf\u001b[49m\u001b[43m[\u001b[49m\u001b[38;5;124;43m\"\u001b[39;49m\u001b[38;5;124;43mfull_text\u001b[39;49m\u001b[38;5;124;43m\"\u001b[39;49m\u001b[43m]\u001b[49m\u001b[38;5;241;43m.\u001b[39;49m\u001b[43mtolist\u001b[49m\u001b[43m(\u001b[49m\u001b[43m)\u001b[49m\u001b[43m)\u001b[49m\n\u001b[1;32m      7\u001b[0m \u001b[38;5;28mself\u001b[39m\u001b[38;5;241m.\u001b[39mindex \u001b[38;5;241m=\u001b[39m \u001b[38;5;28mself\u001b[39m\u001b[38;5;241m.\u001b[39m_build_index(\u001b[38;5;28mself\u001b[39m\u001b[38;5;241m.\u001b[39membeddings)\n",
      "Cell \u001b[0;32mIn[17], line 13\u001b[0m, in \u001b[0;36mCourseRecommender._compute_embeddings\u001b[0;34m(self, texts)\u001b[0m\n\u001b[1;32m     11\u001b[0m \u001b[38;5;28;01mfor\u001b[39;00m i \u001b[38;5;129;01min\u001b[39;00m \u001b[38;5;28mrange\u001b[39m(\u001b[38;5;241m0\u001b[39m, \u001b[38;5;28mlen\u001b[39m(texts), \u001b[38;5;241m10\u001b[39m):  \u001b[38;5;66;03m# batching\u001b[39;00m\n\u001b[1;32m     12\u001b[0m     batch \u001b[38;5;241m=\u001b[39m texts[i:i\u001b[38;5;241m+\u001b[39m\u001b[38;5;241m10\u001b[39m]\n\u001b[0;32m---> 13\u001b[0m     response \u001b[38;5;241m=\u001b[39m \u001b[43mclient\u001b[49m\u001b[38;5;241m.\u001b[39membeddings\u001b[38;5;241m.\u001b[39mcreate(model\u001b[38;5;241m=\u001b[39mEMBEDDING_MODEL, \u001b[38;5;28minput\u001b[39m\u001b[38;5;241m=\u001b[39mbatch)\n\u001b[1;32m     14\u001b[0m     batch_embeddings \u001b[38;5;241m=\u001b[39m [e\u001b[38;5;241m.\u001b[39membedding \u001b[38;5;28;01mfor\u001b[39;00m e \u001b[38;5;129;01min\u001b[39;00m response\u001b[38;5;241m.\u001b[39mdata]\n\u001b[1;32m     15\u001b[0m     embeddings\u001b[38;5;241m.\u001b[39mextend(batch_embeddings)\n",
      "\u001b[0;31mNameError\u001b[0m: name 'client' is not defined"
     ]
    }
   ],
   "source": [
    "# Initialize recommender\n",
    "recommender = CourseRecommender(DATASET_PATH)"
   ]
  },
  {
   "cell_type": "code",
   "execution_count": null,
   "id": "7cc6ab03",
   "metadata": {},
   "outputs": [],
   "source": [
    "\n",
    "\n",
    "\n",
    "# Sample test profiles\n",
    "test_profiles = [\n",
    "    (\"I’ve completed the ‘Python Programming for Data Science’ course and enjoy data visualization.\", [\"C001\"]),\n",
    "    (\"I know Azure basics and want to manage containers and build CI/CD pipelines.\", [\"C015\"]),\n",
    "    (\"My background is in ML fundamentals; I’d like to specialize in neural networks and production workflows.\", [\"C007\"]),\n",
    "    (\"I want to learn to build and deploy microservices with Kubernetes—what courses fit best?\", []),\n",
    "    (\"I’m interested in blockchain and smart contracts but have no prior experience.\", [])\n",
    "]\n",
    "\n",
    "for i, (query, completed) in enumerate(test_profiles):\n",
    "    print(f\"\\n=== Test Profile {i+1} ===\")\n",
    "    results = recommender.recommend_courses(profile=query, completed_ids=completed)\n",
    "    for course_id, score in results:\n",
    "        print(f\"{course_id}: Score={score:.4f}\")\n"
   ]
  }
 ],
 "metadata": {
  "kernelspec": {
   "display_name": "gen-ai",
   "language": "python",
   "name": "python3"
  },
  "language_info": {
   "codemirror_mode": {
    "name": "ipython",
    "version": 3
   },
   "file_extension": ".py",
   "mimetype": "text/x-python",
   "name": "python",
   "nbconvert_exporter": "python",
   "pygments_lexer": "ipython3",
   "version": "3.12.3"
  }
 },
 "nbformat": 4,
 "nbformat_minor": 5
}
